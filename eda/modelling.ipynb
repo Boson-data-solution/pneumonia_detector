{
 "cells": [
  {
   "cell_type": "markdown",
   "metadata": {},
   "source": [
    "## 1. Setup"
   ]
  },
  {
   "cell_type": "markdown",
   "metadata": {},
   "source": [
    "### 1.1 Import libraries"
   ]
  },
  {
   "cell_type": "code",
   "execution_count": 1,
   "metadata": {},
   "outputs": [],
   "source": [
    "import numpy as np\n",
    "\n",
    "import keras\n",
    "import tensorflow\n",
    "from keras.models import Sequential\n",
    "from keras.layers import Dense, Conv2D, MaxPooling2D, Flatten, Dropout\n",
    "\n",
    "import sys\n",
    "sys.path.insert(1, '../src')\n",
    "from functions import load_data, preprocess_data\n",
    "import config as config"
   ]
  },
  {
   "cell_type": "markdown",
   "metadata": {},
   "source": [
    "### 1.2 Load the data"
   ]
  },
  {
   "cell_type": "code",
   "execution_count": 2,
   "metadata": {},
   "outputs": [],
   "source": [
    "X_train = load_data('../data/processed_data/X_train.pkl')\n",
    "y_train = load_data('../data/processed_data/y_train.pkl')\n",
    "X_val = load_data('../data/processed_data/X_val.pkl')\n",
    "y_val = load_data('../data/processed_data/y_val.pkl')"
   ]
  },
  {
   "cell_type": "markdown",
   "metadata": {},
   "source": [
    "### 1.3 Preprocessing"
   ]
  },
  {
   "cell_type": "code",
   "execution_count": 3,
   "metadata": {},
   "outputs": [],
   "source": [
    "X_train, y_train = preprocess_data(X_train, y_train)\n",
    "X_val, y_val = preprocess_data(X_val, y_val)"
   ]
  },
  {
   "cell_type": "markdown",
   "metadata": {},
   "source": [
    "## 2. Build Convolutional Neural Network"
   ]
  },
  {
   "cell_type": "code",
   "execution_count": 19,
   "metadata": {},
   "outputs": [],
   "source": [
    "input_shape = (config.IMG_SIZE,config.IMG_SIZE,1)\n",
    "model = Sequential()\n",
    "model.add(Conv2D(32,kernel_size = (2,2),strides = (1,1),activation = 'relu',input_shape = input_shape))\n",
    "model.add(Dropout(0.2))\n",
    "model.add(MaxPooling2D(pool_size = (2,2),strides = (2,2)))\n",
    "model.add(Conv2D(128,kernel_size = (2,2),strides = (1,1),activation = 'relu'))\n",
    "model.add(Dropout(0.2))\n",
    "model.add(MaxPooling2D(pool_size = (2,2),strides = (2,2)))\n",
    "model.add(Conv2D(128,kernel_size = (2,2),strides = (1,1),activation = 'relu'))\n",
    "model.add(Dropout(0.2))\n",
    "model.add(MaxPooling2D(pool_size = (2,2),strides = (2,2)))\n",
    "model.add(Conv2D(128,kernel_size = (2,2),strides = (1,1),activation = 'relu'))\n",
    "model.add(Dropout(0.2))\n",
    "model.add(MaxPooling2D(pool_size = (2,2),strides = (2,2)))\n",
    "model.add(Conv2D(128,kernel_size = (2,2),strides = (1,1),activation = 'relu'))\n",
    "model.add(Dropout(0.2))\n",
    "model.add(Flatten())\n",
    "# model.add(Dense(256, activation='relu'))\n",
    "model.add(Dense(3, activation='softmax'))"
   ]
  },
  {
   "cell_type": "code",
   "execution_count": 20,
   "metadata": {},
   "outputs": [
    {
     "name": "stdout",
     "output_type": "stream",
     "text": [
      "Model: \"sequential_5\"\n",
      "_________________________________________________________________\n",
      "Layer (type)                 Output Shape              Param #   \n",
      "=================================================================\n",
      "conv2d_24 (Conv2D)           (None, 127, 127, 32)      160       \n",
      "_________________________________________________________________\n",
      "dropout_24 (Dropout)         (None, 127, 127, 32)      0         \n",
      "_________________________________________________________________\n",
      "max_pooling2d_20 (MaxPooling (None, 63, 63, 32)        0         \n",
      "_________________________________________________________________\n",
      "conv2d_25 (Conv2D)           (None, 62, 62, 128)       16512     \n",
      "_________________________________________________________________\n",
      "dropout_25 (Dropout)         (None, 62, 62, 128)       0         \n",
      "_________________________________________________________________\n",
      "max_pooling2d_21 (MaxPooling (None, 31, 31, 128)       0         \n",
      "_________________________________________________________________\n",
      "conv2d_26 (Conv2D)           (None, 30, 30, 128)       65664     \n",
      "_________________________________________________________________\n",
      "dropout_26 (Dropout)         (None, 30, 30, 128)       0         \n",
      "_________________________________________________________________\n",
      "max_pooling2d_22 (MaxPooling (None, 15, 15, 128)       0         \n",
      "_________________________________________________________________\n",
      "conv2d_27 (Conv2D)           (None, 14, 14, 128)       65664     \n",
      "_________________________________________________________________\n",
      "dropout_27 (Dropout)         (None, 14, 14, 128)       0         \n",
      "_________________________________________________________________\n",
      "max_pooling2d_23 (MaxPooling (None, 7, 7, 128)         0         \n",
      "_________________________________________________________________\n",
      "conv2d_28 (Conv2D)           (None, 6, 6, 128)         65664     \n",
      "_________________________________________________________________\n",
      "dropout_28 (Dropout)         (None, 6, 6, 128)         0         \n",
      "_________________________________________________________________\n",
      "flatten_4 (Flatten)          (None, 4608)              0         \n",
      "_________________________________________________________________\n",
      "dense_4 (Dense)              (None, 3)                 13827     \n",
      "=================================================================\n",
      "Total params: 227,491\n",
      "Trainable params: 227,491\n",
      "Non-trainable params: 0\n",
      "_________________________________________________________________\n"
     ]
    }
   ],
   "source": [
    "model.summary()"
   ]
  },
  {
   "cell_type": "code",
   "execution_count": 23,
   "metadata": {},
   "outputs": [],
   "source": [
    "model.compile(\n",
    "#     loss='categorical_crossentropy',\n",
    "    loss='kullback_leibler_divergence',\n",
    "    optimizer='adam',\n",
    "    metrics=['acc']\n",
    ")"
   ]
  },
  {
   "cell_type": "code",
   "execution_count": 28,
   "metadata": {
    "scrolled": true
   },
   "outputs": [
    {
     "name": "stdout",
     "output_type": "stream",
     "text": [
      "Epoch 1/5\n",
      "420/420 [==============================] - 103s 245ms/step - loss: 0.2705 - acc: 0.8896 - val_loss: 1.7661 - val_acc: 0.4558\n",
      "Epoch 2/5\n",
      "420/420 [==============================] - 103s 244ms/step - loss: 0.2685 - acc: 0.8948 - val_loss: 1.7790 - val_acc: 0.4471\n",
      "Epoch 3/5\n",
      "420/420 [==============================] - 103s 245ms/step - loss: 0.2419 - acc: 0.9005 - val_loss: 1.7856 - val_acc: 0.4433\n",
      "Epoch 4/5\n",
      "420/420 [==============================] - 101s 241ms/step - loss: 0.2389 - acc: 0.8989 - val_loss: 2.6068 - val_acc: 0.4760\n",
      "Epoch 5/5\n",
      "420/420 [==============================] - 101s 240ms/step - loss: 0.2221 - acc: 0.9136 - val_loss: 2.3530 - val_acc: 0.4154\n"
     ]
    }
   ],
   "source": [
    "history = model.fit(X_train, y_train, batch_size=10, epochs=5, validation_data=(X_val, y_val))"
   ]
  }
 ],
 "metadata": {
  "kernelspec": {
   "display_name": "Python 3",
   "language": "python",
   "name": "python3"
  },
  "language_info": {
   "codemirror_mode": {
    "name": "ipython",
    "version": 3
   },
   "file_extension": ".py",
   "mimetype": "text/x-python",
   "name": "python",
   "nbconvert_exporter": "python",
   "pygments_lexer": "ipython3",
   "version": "3.8.5"
  }
 },
 "nbformat": 4,
 "nbformat_minor": 4
}
