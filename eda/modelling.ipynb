{
 "cells": [
  {
   "cell_type": "markdown",
   "metadata": {},
   "source": [
    "## 1. Setup"
   ]
  },
  {
   "cell_type": "markdown",
   "metadata": {},
   "source": [
    "### 1.1 Import libraries"
   ]
  },
  {
   "cell_type": "code",
   "execution_count": 16,
   "metadata": {},
   "outputs": [],
   "source": [
    "import numpy as np\n",
    "\n",
    "import keras\n",
    "import tensorflow\n",
    "from keras.models import Sequential\n",
    "from keras.layers import Dense, Conv2D , MaxPooling2D , Flatten , Dropout , BatchNormalization\n",
    "from keras.preprocessing.image import ImageDataGenerator\n",
    "\n",
    "import sys\n",
    "sys.path.insert(1, '../src')\n",
    "from load_data import load_data\n",
    "import config as config"
   ]
  },
  {
   "cell_type": "markdown",
   "metadata": {},
   "source": [
    "### 1.2 Load the data"
   ]
  },
  {
   "cell_type": "code",
   "execution_count": 2,
   "metadata": {},
   "outputs": [],
   "source": [
    "X_train = load_data('../data/processed_data/X_train.pkl')\n",
    "y_train = load_data('../data/processed_data/y_train.pkl')\n",
    "X_val = load_data('../data/processed_data/X_val.pkl')\n",
    "y_val = load_data('../data/processed_data/y_val.pkl')"
   ]
  },
  {
   "cell_type": "markdown",
   "metadata": {},
   "source": [
    "### 1.3 Preprocessing"
   ]
  },
  {
   "cell_type": "code",
   "execution_count": 5,
   "metadata": {},
   "outputs": [],
   "source": [
    "# Normalize\n",
    "X_train = np.array(X_train) / 255\n",
    "X_val = np.array(X_val) / 255\n",
    "\n",
    "# Reshape the data\n",
    "X_train = X_train.reshape(-1, config.IMG_SIZE, config.IMG_SIZE, 1)\n",
    "y_train = np.array(y_train)\n",
    "y_train = tensorflow.keras.utils.to_categorical(y_train)\n",
    "\n",
    "X_val = X_val.reshape(-1, config.IMG_SIZE, config.IMG_SIZE, 1)\n",
    "y_val = np.array(y_val)\n",
    "y_val = tensorflow.keras.utils.to_categorical(y_val)"
   ]
  },
  {
   "cell_type": "markdown",
   "metadata": {},
   "source": [
    "## 2. Build Convolutional Neural Network"
   ]
  },
  {
   "cell_type": "code",
   "execution_count": 10,
   "metadata": {},
   "outputs": [],
   "source": [
    "input_shape = (config.IMG_SIZE,config.IMG_SIZE,1)\n",
    "model = Sequential()\n",
    "model.add(Conv2D(32,kernel_size = (2,2),strides = (1,1),activation = 'relu',input_shape = input_shape))\n",
    "model.add(Dropout(0.2))\n",
    "model.add(MaxPooling2D(pool_size = (2,2),strides = (2,2)))\n",
    "model.add(Conv2D(64,kernel_size = (2,2),strides = (1,1),activation = 'relu'))\n",
    "model.add(Dropout(0.2))\n",
    "model.add(MaxPooling2D(pool_size = (2,2),strides = (2,2)))\n",
    "model.add(Conv2D(64,kernel_size = (2,2),strides = (1,1),activation = 'relu'))\n",
    "model.add(Dropout(0.2))\n",
    "model.add(MaxPooling2D(pool_size = (2,2),strides = (2,2)))\n",
    "model.add(Conv2D(128,kernel_size = (2,2),strides = (1,1),activation = 'relu'))\n",
    "model.add(Dropout(0.2))\n",
    "model.add(MaxPooling2D(pool_size = (2,2),strides = (2,2)))\n",
    "model.add(Conv2D(256,kernel_size = (2,2),strides = (1,1),activation = 'relu'))\n",
    "model.add(Dropout(0.2))\n",
    "model.add(Flatten())\n",
    "model.add(Dense(256, activation='linear'))\n",
    "model.add(Dense(3, activation='softmax'))"
   ]
  },
  {
   "cell_type": "code",
   "execution_count": 11,
   "metadata": {},
   "outputs": [
    {
     "name": "stdout",
     "output_type": "stream",
     "text": [
      "Model: \"sequential_1\"\n",
      "_________________________________________________________________\n",
      "Layer (type)                 Output Shape              Param #   \n",
      "=================================================================\n",
      "conv2d_5 (Conv2D)            (None, 127, 127, 32)      160       \n",
      "_________________________________________________________________\n",
      "dropout_1 (Dropout)          (None, 127, 127, 32)      0         \n",
      "_________________________________________________________________\n",
      "max_pooling2d_4 (MaxPooling2 (None, 63, 63, 32)        0         \n",
      "_________________________________________________________________\n",
      "conv2d_6 (Conv2D)            (None, 62, 62, 64)        8256      \n",
      "_________________________________________________________________\n",
      "dropout_2 (Dropout)          (None, 62, 62, 64)        0         \n",
      "_________________________________________________________________\n",
      "max_pooling2d_5 (MaxPooling2 (None, 31, 31, 64)        0         \n",
      "_________________________________________________________________\n",
      "conv2d_7 (Conv2D)            (None, 30, 30, 64)        16448     \n",
      "_________________________________________________________________\n",
      "dropout_3 (Dropout)          (None, 30, 30, 64)        0         \n",
      "_________________________________________________________________\n",
      "max_pooling2d_6 (MaxPooling2 (None, 15, 15, 64)        0         \n",
      "_________________________________________________________________\n",
      "conv2d_8 (Conv2D)            (None, 14, 14, 128)       32896     \n",
      "_________________________________________________________________\n",
      "dropout_4 (Dropout)          (None, 14, 14, 128)       0         \n",
      "_________________________________________________________________\n",
      "max_pooling2d_7 (MaxPooling2 (None, 7, 7, 128)         0         \n",
      "_________________________________________________________________\n",
      "conv2d_9 (Conv2D)            (None, 6, 6, 256)         131328    \n",
      "_________________________________________________________________\n",
      "dropout_5 (Dropout)          (None, 6, 6, 256)         0         \n",
      "_________________________________________________________________\n",
      "flatten_1 (Flatten)          (None, 9216)              0         \n",
      "_________________________________________________________________\n",
      "dense_2 (Dense)              (None, 256)               2359552   \n",
      "_________________________________________________________________\n",
      "dense_3 (Dense)              (None, 3)                 771       \n",
      "=================================================================\n",
      "Total params: 2,549,411\n",
      "Trainable params: 2,549,411\n",
      "Non-trainable params: 0\n",
      "_________________________________________________________________\n"
     ]
    }
   ],
   "source": [
    "model.summary()"
   ]
  },
  {
   "cell_type": "code",
   "execution_count": 21,
   "metadata": {},
   "outputs": [],
   "source": [
    "model.compile(loss='categorical_crossentropy',\n",
    "   optimizer='adam',\n",
    "   metrics=['acc'])"
   ]
  },
  {
   "cell_type": "code",
   "execution_count": 23,
   "metadata": {
    "scrolled": false
   },
   "outputs": [
    {
     "name": "stdout",
     "output_type": "stream",
     "text": [
      "Epoch 1/10\n",
      "420/420 [==============================] - 85s 202ms/step - loss: 0.6443 - acc: 0.7316 - val_loss: 0.8541 - val_acc: 0.5510\n",
      "Epoch 2/10\n",
      "420/420 [==============================] - 82s 194ms/step - loss: 0.4373 - acc: 0.8249 - val_loss: 1.7132 - val_acc: 0.3462\n",
      "Epoch 3/10\n",
      "420/420 [==============================] - 83s 197ms/step - loss: 0.3879 - acc: 0.8476 - val_loss: 0.9822 - val_acc: 0.5481\n",
      "Epoch 4/10\n",
      "420/420 [==============================] - 82s 195ms/step - loss: 0.3692 - acc: 0.8521 - val_loss: 1.0253 - val_acc: 0.5298\n",
      "Epoch 5/10\n",
      "420/420 [==============================] - 81s 193ms/step - loss: 0.3573 - acc: 0.8483 - val_loss: 1.1790 - val_acc: 0.4885\n",
      "Epoch 6/10\n",
      "420/420 [==============================] - 82s 195ms/step - loss: 0.3422 - acc: 0.8616 - val_loss: 1.4078 - val_acc: 0.5135\n",
      "Epoch 7/10\n",
      "420/420 [==============================] - 84s 200ms/step - loss: 0.3206 - acc: 0.8640 - val_loss: 1.2125 - val_acc: 0.4990\n",
      "Epoch 8/10\n",
      "420/420 [==============================] - 81s 194ms/step - loss: 0.3149 - acc: 0.8760 - val_loss: 1.1833 - val_acc: 0.4750\n",
      "Epoch 9/10\n",
      "420/420 [==============================] - 82s 195ms/step - loss: 0.3053 - acc: 0.8745 - val_loss: 2.0358 - val_acc: 0.4260\n",
      "Epoch 10/10\n",
      "420/420 [==============================] - 81s 194ms/step - loss: 0.2979 - acc: 0.8783 - val_loss: 1.4662 - val_acc: 0.4663\n"
     ]
    },
    {
     "data": {
      "text/plain": [
       "<tensorflow.python.keras.callbacks.History at 0x1d0c2fa0c40>"
      ]
     },
     "execution_count": 23,
     "metadata": {},
     "output_type": "execute_result"
    }
   ],
   "source": [
    "model.fit(X_train, y_train, batch_size=10, epochs=10, validation_data=(X_val, y_val))"
   ]
  },
  {
   "cell_type": "code",
   "execution_count": null,
   "metadata": {},
   "outputs": [],
   "source": []
  }
 ],
 "metadata": {
  "kernelspec": {
   "display_name": "Python 3",
   "language": "python",
   "name": "python3"
  },
  "language_info": {
   "codemirror_mode": {
    "name": "ipython",
    "version": 3
   },
   "file_extension": ".py",
   "mimetype": "text/x-python",
   "name": "python",
   "nbconvert_exporter": "python",
   "pygments_lexer": "ipython3",
   "version": "3.8.5"
  }
 },
 "nbformat": 4,
 "nbformat_minor": 4
}
